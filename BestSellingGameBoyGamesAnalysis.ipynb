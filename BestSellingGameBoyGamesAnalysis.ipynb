{
 "cells": [
  {
   "attachments": {},
   "cell_type": "markdown",
   "metadata": {},
   "source": [
    "# Best Selling Game Boy Video Games\n",
    "***\n",
    "This is an analysis of the best-selling Game Boy video games for both the Game Boy and the Game Boy Color. The data was taken from [Wikipedia](https://en.wikipedia.org/wiki/List_of_best-selling_Game_Boy_video_games). Both of these gaming consoles were what sparked the portable video game movement, as there was nothing like them at the time. Their dominance spanned from the late 80s into the early 2000s with some games selling tens of millions of copies!"
   ]
  },
  {
   "cell_type": "code",
   "execution_count": 1,
   "metadata": {},
   "outputs": [],
   "source": [
    "import pandas as pd\n",
    "import matplotlib.pyplot as plt"
   ]
  },
  {
   "attachments": {},
   "cell_type": "markdown",
   "metadata": {},
   "source": [
    "All that's needed for our analysis is Pandas and Matplotlib, so I've imported them above."
   ]
  },
  {
   "cell_type": "code",
   "execution_count": 3,
   "metadata": {},
   "outputs": [],
   "source": [
    "df = pd.read_csv('best-selling-gameboy.csv')"
   ]
  },
  {
   "attachments": {},
   "cell_type": "markdown",
   "metadata": {},
   "source": [
    "Here we will import our CSV file to analyze our data."
   ]
  },
  {
   "cell_type": "code",
   "execution_count": 4,
   "metadata": {},
   "outputs": [
    {
     "data": {
      "text/plain": [
       "Index(['Game', 'Developer(s)', 'Publisher', 'Platform', 'Release date',\n",
       "       'Sales'],\n",
       "      dtype='object')"
      ]
     },
     "execution_count": 4,
     "metadata": {},
     "output_type": "execute_result"
    }
   ],
   "source": [
    "df.columns"
   ]
  },
  {
   "attachments": {},
   "cell_type": "markdown",
   "metadata": {},
   "source": [
    "I like to print out the columns for every dataset I analyze so that when I'm exploring the data, I know the exact name of the column. This is because there can be issues with the first letter in the word for each column changing between datasets which can either be capitalized or lowercase. It's also nice to see all of the columns in the dataset."
   ]
  },
  {
   "cell_type": "code",
   "execution_count": 44,
   "metadata": {},
   "outputs": [
    {
     "data": {
      "text/html": [
       "<div>\n",
       "<style scoped>\n",
       "    .dataframe tbody tr th:only-of-type {\n",
       "        vertical-align: middle;\n",
       "    }\n",
       "\n",
       "    .dataframe tbody tr th {\n",
       "        vertical-align: top;\n",
       "    }\n",
       "\n",
       "    .dataframe thead th {\n",
       "        text-align: right;\n",
       "    }\n",
       "</style>\n",
       "<table border=\"1\" class=\"dataframe\">\n",
       "  <thead>\n",
       "    <tr style=\"text-align: right;\">\n",
       "      <th></th>\n",
       "      <th>Sales</th>\n",
       "    </tr>\n",
       "  </thead>\n",
       "  <tbody>\n",
       "    <tr>\n",
       "      <th>count</th>\n",
       "      <td>66</td>\n",
       "    </tr>\n",
       "    <tr>\n",
       "      <th>mean</th>\n",
       "      <td>4,010,402</td>\n",
       "    </tr>\n",
       "    <tr>\n",
       "      <th>std</th>\n",
       "      <td>7,801,533</td>\n",
       "    </tr>\n",
       "    <tr>\n",
       "      <th>min</th>\n",
       "      <td>1,000,000</td>\n",
       "    </tr>\n",
       "    <tr>\n",
       "      <th>25%</th>\n",
       "      <td>1,142,500</td>\n",
       "    </tr>\n",
       "    <tr>\n",
       "      <th>50%</th>\n",
       "      <td>1,610,000</td>\n",
       "    </tr>\n",
       "    <tr>\n",
       "      <th>75%</th>\n",
       "      <td>3,052,500</td>\n",
       "    </tr>\n",
       "    <tr>\n",
       "      <th>max</th>\n",
       "      <td>46,020,000</td>\n",
       "    </tr>\n",
       "  </tbody>\n",
       "</table>\n",
       "</div>"
      ],
      "text/plain": [
       "           Sales\n",
       "count         66\n",
       "mean   4,010,402\n",
       "std    7,801,533\n",
       "min    1,000,000\n",
       "25%    1,142,500\n",
       "50%    1,610,000\n",
       "75%    3,052,500\n",
       "max   46,020,000"
      ]
     },
     "execution_count": 44,
     "metadata": {},
     "output_type": "execute_result"
    }
   ],
   "source": [
    "pd.options.display.float_format = '{:,.0f}'.format\n",
    "df.describe()"
   ]
  },
  {
   "attachments": {},
   "cell_type": "markdown",
   "metadata": {},
   "source": [
    "Here we can get a little overview of our data. We can see there are only 66 games. The lowest-selling game that it shows sold 1,000,000 copies, and the highest-selling game sold a whopping 46,020,000 copies! If you were around back then, you might have a good idea which game this was."
   ]
  },
  {
   "cell_type": "code",
   "execution_count": 6,
   "metadata": {},
   "outputs": [
    {
     "data": {
      "text/plain": [
       "Game            0\n",
       "Developer(s)    0\n",
       "Publisher       0\n",
       "Platform        0\n",
       "Release date    0\n",
       "Sales           0\n",
       "dtype: int64"
      ]
     },
     "execution_count": 6,
     "metadata": {},
     "output_type": "execute_result"
    }
   ],
   "source": [
    "df.isnull().sum()"
   ]
  },
  {
   "attachments": {},
   "cell_type": "markdown",
   "metadata": {},
   "source": [
    "It's nice to double-check that there are no null values, and it doesn't look like there are any, which is good."
   ]
  },
  {
   "cell_type": "code",
   "execution_count": 30,
   "metadata": {},
   "outputs": [
    {
     "data": {
      "text/html": [
       "<div>\n",
       "<style scoped>\n",
       "    .dataframe tbody tr th:only-of-type {\n",
       "        vertical-align: middle;\n",
       "    }\n",
       "\n",
       "    .dataframe tbody tr th {\n",
       "        vertical-align: top;\n",
       "    }\n",
       "\n",
       "    .dataframe thead th {\n",
       "        text-align: right;\n",
       "    }\n",
       "</style>\n",
       "<table border=\"1\" class=\"dataframe\">\n",
       "  <thead>\n",
       "    <tr style=\"text-align: right;\">\n",
       "      <th></th>\n",
       "      <th>Game</th>\n",
       "      <th>Developer(s)</th>\n",
       "      <th>Publisher</th>\n",
       "      <th>Platform</th>\n",
       "      <th>Release date</th>\n",
       "      <th>Sales</th>\n",
       "    </tr>\n",
       "  </thead>\n",
       "  <tbody>\n",
       "    <tr>\n",
       "      <th>0</th>\n",
       "      <td>Pokémon Red / Green / Blue / Yellow</td>\n",
       "      <td>Game Freak</td>\n",
       "      <td>Nintendo</td>\n",
       "      <td>Game Boy</td>\n",
       "      <td>1996-02-27</td>\n",
       "      <td>46,020,000</td>\n",
       "    </tr>\n",
       "    <tr>\n",
       "      <th>1</th>\n",
       "      <td>Tetris</td>\n",
       "      <td>Nintendo R&amp;D1</td>\n",
       "      <td>Nintendo</td>\n",
       "      <td>Game Boy</td>\n",
       "      <td>1989-06-14</td>\n",
       "      <td>35,000,000</td>\n",
       "    </tr>\n",
       "    <tr>\n",
       "      <th>2</th>\n",
       "      <td>Pokémon Gold / Silver / Crystal</td>\n",
       "      <td>Game Freak</td>\n",
       "      <td>Nintendo</td>\n",
       "      <td>Game Boy Color</td>\n",
       "      <td>1999-11-21</td>\n",
       "      <td>29,490,000</td>\n",
       "    </tr>\n",
       "    <tr>\n",
       "      <th>3</th>\n",
       "      <td>Super Mario Land</td>\n",
       "      <td>Nintendo R&amp;D1</td>\n",
       "      <td>Nintendo</td>\n",
       "      <td>Game Boy</td>\n",
       "      <td>1989-04-21</td>\n",
       "      <td>18,140,000</td>\n",
       "    </tr>\n",
       "    <tr>\n",
       "      <th>4</th>\n",
       "      <td>Super Mario Land 2: 6 Golden Coins</td>\n",
       "      <td>Nintendo R&amp;D1</td>\n",
       "      <td>Nintendo</td>\n",
       "      <td>Game Boy</td>\n",
       "      <td>1992-10-21</td>\n",
       "      <td>11,180,000</td>\n",
       "    </tr>\n",
       "    <tr>\n",
       "      <th>5</th>\n",
       "      <td>Dr. Mario</td>\n",
       "      <td>Nintendo R&amp;D1</td>\n",
       "      <td>Nintendo</td>\n",
       "      <td>Game Boy</td>\n",
       "      <td>1990-07-27</td>\n",
       "      <td>5,340,000</td>\n",
       "    </tr>\n",
       "    <tr>\n",
       "      <th>6</th>\n",
       "      <td>Pokémon Pinball</td>\n",
       "      <td>Jupiter</td>\n",
       "      <td>Nintendo</td>\n",
       "      <td>Game Boy Color</td>\n",
       "      <td>1999-04-14</td>\n",
       "      <td>5,310,000</td>\n",
       "    </tr>\n",
       "    <tr>\n",
       "      <th>7</th>\n",
       "      <td>Wario Land: Super Mario Land 3</td>\n",
       "      <td>Nintendo R&amp;D1</td>\n",
       "      <td>Nintendo</td>\n",
       "      <td>Game Boy</td>\n",
       "      <td>1994-01-21</td>\n",
       "      <td>5,190,000</td>\n",
       "    </tr>\n",
       "    <tr>\n",
       "      <th>8</th>\n",
       "      <td>Kirby's Dream Land</td>\n",
       "      <td>HAL Laboratory</td>\n",
       "      <td>Nintendo</td>\n",
       "      <td>Game Boy</td>\n",
       "      <td>1992-04-27</td>\n",
       "      <td>5,130,000</td>\n",
       "    </tr>\n",
       "    <tr>\n",
       "      <th>9</th>\n",
       "      <td>Super Mario Bros. Deluxe</td>\n",
       "      <td>Nintendo EAD</td>\n",
       "      <td>Nintendo</td>\n",
       "      <td>Game Boy Color</td>\n",
       "      <td>1999-05-01</td>\n",
       "      <td>5,070,000</td>\n",
       "    </tr>\n",
       "  </tbody>\n",
       "</table>\n",
       "</div>"
      ],
      "text/plain": [
       "                                  Game    Developer(s) Publisher  \\\n",
       "0  Pokémon Red / Green / Blue / Yellow      Game Freak  Nintendo   \n",
       "1                               Tetris   Nintendo R&D1  Nintendo   \n",
       "2      Pokémon Gold / Silver / Crystal      Game Freak  Nintendo   \n",
       "3                     Super Mario Land   Nintendo R&D1  Nintendo   \n",
       "4   Super Mario Land 2: 6 Golden Coins   Nintendo R&D1  Nintendo   \n",
       "5                            Dr. Mario   Nintendo R&D1  Nintendo   \n",
       "6                      Pokémon Pinball         Jupiter  Nintendo   \n",
       "7       Wario Land: Super Mario Land 3   Nintendo R&D1  Nintendo   \n",
       "8                   Kirby's Dream Land  HAL Laboratory  Nintendo   \n",
       "9             Super Mario Bros. Deluxe    Nintendo EAD  Nintendo   \n",
       "\n",
       "         Platform Release date       Sales  \n",
       "0        Game Boy   1996-02-27  46,020,000  \n",
       "1        Game Boy   1989-06-14  35,000,000  \n",
       "2  Game Boy Color   1999-11-21  29,490,000  \n",
       "3        Game Boy   1989-04-21  18,140,000  \n",
       "4        Game Boy   1992-10-21  11,180,000  \n",
       "5        Game Boy   1990-07-27   5,340,000  \n",
       "6  Game Boy Color   1999-04-14   5,310,000  \n",
       "7        Game Boy   1994-01-21   5,190,000  \n",
       "8        Game Boy   1992-04-27   5,130,000  \n",
       "9  Game Boy Color   1999-05-01   5,070,000  "
      ]
     },
     "execution_count": 30,
     "metadata": {},
     "output_type": "execute_result"
    }
   ],
   "source": [
    "df = df.sort_values(by='Sales', ascending=False)\n",
    "\n",
    "sales_column = df['Sales']\n",
    "\n",
    "# Use the format function to add commas as the thousands separator\n",
    "formatted_sales = sales_column.apply(lambda x: '{:,}'.format(x))\n",
    "\n",
    "# Replace the original sales column with the formatted version\n",
    "df['Sales'] = formatted_sales\n",
    "\n",
    "# Get the top 10 rows of the sorted dataframe\n",
    "top_10 = df.head(10)\n",
    "df.head(10)"
   ]
  },
  {
   "attachments": {},
   "cell_type": "markdown",
   "metadata": {},
   "source": [
    "Here I've printed out the top 10 selling games between the Game Boy and Game Boy Color. To not many people's surprise, we can see that the game that sold just over 46 million copies is Pokémon. There could be some debate since four games are counted as one; as we can see, there's Pokémon Red, Green, Blue, and Yellow, but they're all almost identical games with very minuscule differences. Because of this, they were counted as one game. The same is also done with the third best-selling game on the list, which is Pokémon Gold, Silver, and Crystal. Pokémon was a dominant force back in the day, and the games are a clear indicator of its reach even beyond the show, movies, and cards. \n",
    "\n",
    "Super Mario was popular, which isn't a surprise to many. Tetris, as simple of a game as it is, was the second-best-selling game at 35 million copies! A big part of this was that Tetris was a game that appealed to everyone, no matter who you were, since it was a puzzle-based game and wasn't aimed at any specific demographic. At this point, you could play it anywhere you went since the Game Boy was portable."
   ]
  },
  {
   "cell_type": "code",
   "execution_count": 48,
   "metadata": {},
   "outputs": [
    {
     "data": {
      "image/png": "[encoded data removed]",
      "text/plain": [
       "<Figure size 640x480 with 1 Axes>"
      ]
     },
     "metadata": {},
     "output_type": "display_data"
    }
   ],
   "source": [
    "import matplotlib.pyplot as plt\n",
    "\n",
    "# Sort the dataframe by the 'Sales' column in descending order\n",
    "df = df.sort_values(by='Sales', ascending=False)\n",
    "\n",
    "# Get the top 10 rows of the sorted dataframe\n",
    "top_10 = df.head(10)\n",
    "\n",
    "# Set the index to be the 'Game' column\n",
    "top_10 = top_10.set_index('Game')\n",
    "\n",
    "plt.yticks([0, 10000000, 20000000, 30000000, 40000000, 50000000, 60000000], ['0', '10M', '20M', '30M', '40M', '50M', '60M'])\n",
    "\n",
    "# Plot the 'Sales' column as a bar chart\n",
    "top_10['Sales'].plot(kind='bar')\n",
    "\n",
    "# Set the title and labels\n",
    "plt.title('Top 10 Games by Sales')\n",
    "plt.xlabel('Game')\n",
    "plt.ylabel('Sales')\n",
    "\n",
    "# Show the plot\n",
    "plt.show()"
   ]
  },
  {
   "attachments": {},
   "cell_type": "markdown",
   "metadata": {},
   "source": [
    "Above is a simple graph showing the top 10 best-selling games between both the Game Boy and Game Boy Color for those who prefer a visualization of the data."
   ]
  },
  {
   "attachments": {},
   "cell_type": "markdown",
   "metadata": {},
   "source": [
    "Below are all of the 66 best-selling games for both the Game Boy and Game Boy Color. It's in chronological order in terms of sales to give a good idea of the ranking as well as what game appeared where on the list. I figured someone would enjoy actually seeing the full list so it's a bit lengthy, but gives the full picture of the data."
   ]
  },
  {
   "cell_type": "code",
   "execution_count": 50,
   "metadata": {},
   "outputs": [
    {
     "name": "stdout",
     "output_type": "stream",
     "text": [
      "Pokémon Red / Green / Blue / Yellow\n",
      "Tetris\n",
      "Pokémon Gold / Silver / Crystal\n",
      "Super Mario Land\n",
      "Super Mario Land 2: 6 Golden Coins\n",
      "Dr. Mario\n",
      "Pokémon Pinball\n",
      "Wario Land: Super Mario Land 3\n",
      "Kirby's Dream Land\n",
      "Super Mario Bros. Deluxe\n",
      "The Legend of Zelda: Oracle of Seasons and Oracle of Ages\n",
      "Donkey Kong Land\n",
      "The Legend of Zelda: Link's Awakening\n",
      "Pokémon Trading Card Game\n",
      "F-1 Race\n",
      "Yoshi\n",
      "Donkey Kong\n",
      "Tamagotchi (Game de Hakken!! Tamagotchi)\n",
      "Yu-Gi-Oh! Duel Monsters 4: Battle of Great Duelists\n",
      "Yu-Gi-Oh! Dark Duel Stories\n",
      "Kirby's Dream Land 2\n",
      "Donkey Kong Land 2\n",
      "Dragon Warrior Monsters\n",
      "The Legend of Zelda: Link's Awakening DX\n",
      "Wario Land 3\n",
      "Kirby's Pinball Land\n",
      "Donkey Kong Country\n",
      "Golf\n",
      "Tennis\n",
      "Alleyway\n",
      "Tetris DX\n",
      "Metroid II: Return of Samus\n",
      "Baseball\n",
      "Yu-Gi-Oh! Duel Monsters\n",
      "Dragon Warrior Monsters 2\n",
      "Yoshi's Cookie\n",
      "Wario Land II\n",
      "Game de Hakken!! Tamagotchi 2\n",
      "Yu-Gi-Oh! Duel Monsters II: Dark Duel Stories\n",
      "DuckTales\n",
      "The Final Fantasy Legend\n",
      "Yakuman\n",
      "Tetris 2\n",
      "Kirby Tilt 'n' Tumble\n",
      "Game & Watch Gallery 2\n",
      "Game & Watch Gallery 3\n",
      "Solar Striker\n",
      "Mario Tennis\n",
      "Qix\n",
      "Super R.C. Pro-Am\n",
      "Donkey Kong Land III\n",
      "The Bugs Bunny Crazy Castle\n",
      "The Bugs Bunny Crazy Castle 2\n",
      "Mickey's Dangerous Chase\n",
      "The Little Mermaid\n",
      "Mega Man: Dr. Wily's Revenge\n",
      "Mega Man II\n",
      "Wave Race\n",
      "Star Wars\n",
      "DuckTales 2\n",
      "Mickey Mouse: Magic Wands!\n",
      "Space Invaders\n",
      "The Smurfs\n",
      "Street Fighter II\n",
      "Game & Watch Gallery\n",
      "James Bond 007\n"
     ]
    }
   ],
   "source": [
    "for index, row in df.iterrows():\n",
    "    print(row['Game'])"
   ]
  },
  {
   "cell_type": "code",
   "execution_count": 51,
   "metadata": {},
   "outputs": [
    {
     "name": "stdout",
     "output_type": "stream",
     "text": [
      "Platform\n",
      "Game Boy          48\n",
      "Game Boy Color    18\n",
      "dtype: int64\n"
     ]
    }
   ],
   "source": [
    "game_counts = df.groupby('Platform').size()\n",
    "print(game_counts)"
   ]
  },
  {
   "attachments": {},
   "cell_type": "markdown",
   "metadata": {},
   "source": [
    "Here we have a comparison of the best-selling games in the list and how many were Game Boy vs. Game Boy Color. A lot more games on the list were on the Game Boy, and a reason for this is that Nintendo seemed to focus on the initial games that launched with the Game Boy, especially ones that were exclusive to Nintendo, such as Super Mario. It was only until 1996 when Pokemon Red, Blue, Green, and Yellow came out, seven years into the system's lifespan, but again, there wasn't a portable gaming system like the Game Boy at the time. A fun fact is that the Game Boy was what popularized handheld gaming consoles, but it wasn't the first. The first handheld gaming console was the **Auto Race** made by Mattel, which came out in 1976."
   ]
  },
  {
   "cell_type": "code",
   "execution_count": 52,
   "metadata": {},
   "outputs": [
    {
     "data": {
      "text/plain": [
       "<AxesSubplot:xlabel='Platform'>"
      ]
     },
     "execution_count": 52,
     "metadata": {},
     "output_type": "execute_result"
    },
    {
     "data": {
      "image/png": "[encoded data removed]",
      "text/plain": [
       "<Figure size 640x480 with 1 Axes>"
      ]
     },
     "metadata": {},
     "output_type": "display_data"
    }
   ],
   "source": [
    "game_counts.plot.bar()"
   ]
  },
  {
   "attachments": {},
   "cell_type": "markdown",
   "metadata": {},
   "source": [
    "Below is the highest-selling game for both the Game Boy and Game Boy Color. For both, it's Pokémon with the Game Boy being Pokémon Red, Green, Blue, and Yellow and the Game Boy Color being Pokémon Gold, Silver, and Crystal. Again, this was how big Pokémon was back in the day. Not to say it still isn't, as it's still thriving, but when it was in its prime around this time, there was nothing culturally that took over as much as Pokémon did."
   ]
  },
  {
   "cell_type": "code",
   "execution_count": 73,
   "metadata": {},
   "outputs": [
    {
     "name": "stdout",
     "output_type": "stream",
     "text": [
      "                                  Game Developer(s) Publisher  Platform  \\\n",
      "0  Pokémon Red / Green / Blue / Yellow   Game Freak  Nintendo  Game Boy   \n",
      "\n",
      "  Release date     Sales  \n",
      "0   1996-02-27  46020000  \n",
      "                              Game Developer(s) Publisher        Platform  \\\n",
      "2  Pokémon Gold / Silver / Crystal   Game Freak  Nintendo  Game Boy Color   \n",
      "\n",
      "  Release date     Sales  \n",
      "2   1999-11-21  29490000  \n"
     ]
    }
   ],
   "source": [
    "highest_selling_gameboy = df.nlargest(1, 'Sales')\n",
    "\n",
    "print(highest_selling_gameboy)\n",
    "\n",
    "df_gameboy_color = df.loc[df['Platform'] == 'Game Boy Color']\n",
    "print(highest_selling_gameboy_color)"
   ]
  },
  {
   "attachments": {},
   "cell_type": "markdown",
   "metadata": {},
   "source": [
    "As we saw at the start, the lowest-selling game sold 1,000,000 copies in this list. There wasn't just one game that sold a million copies, but 15 games that sold roughly one million copies. The list is below, but it's interesting looking at the vast array of games that ranges from James Bond 007 to The Little Mermaid. Back then, it felt as though Nintendo was trying to get every core audience that it could, so they were getting games on their console that would interest both young males and females and those into their teens. This wide range of genres was mainly around those first couple years of the Game Boy's lifespan, so Nintendo hit the ground running with many different types of games."
   ]
  },
  {
   "cell_type": "code",
   "execution_count": 67,
   "metadata": {},
   "outputs": [
    {
     "name": "stdout",
     "output_type": "stream",
     "text": [
      "                             Game                   Developer(s)   Publisher  \\\n",
      "65                 James Bond 007                        Saffire    Nintendo   \n",
      "51    The Bugs Bunny Crazy Castle                          Kemco       Kemco   \n",
      "52  The Bugs Bunny Crazy Castle 2                          Kemco       Kemco   \n",
      "53       Mickey's Dangerous Chase                 Now Production      Capcom   \n",
      "54             The Little Mermaid                         Capcom      Capcom   \n",
      "55   Mega Man: Dr. Wily's Revenge          Minakuchi Engineering      Capcom   \n",
      "56                    Mega Man II             Japan System House      Capcom   \n",
      "64           Game & Watch Gallery                           Tose    Nintendo   \n",
      "58                      Star Wars                   NMS Software      Capcom   \n",
      "59                    DuckTales 2                  Make Software      Capcom   \n",
      "60     Mickey Mouse: Magic Wands!                          Kemco       Kemco   \n",
      "61                 Space Invaders                          Taito    Nintendo   \n",
      "62                     The Smurfs                   Bit Managers  Infogrames   \n",
      "63              Street Fighter II                          Sun L    Nintendo   \n",
      "57                      Wave Race  Nintendo EAD and Pax Softnica    Nintendo   \n",
      "\n",
      "    Platform Release date    Sales  \n",
      "65  Game Boy   1998-01-29  1000000  \n",
      "51  Game Boy   1989-09-05  1000000  \n",
      "52  Game Boy   1991-04-26  1000000  \n",
      "53  Game Boy   1991-05-15  1000000  \n",
      "54  Game Boy   1991-07-19  1000000  \n",
      "55  Game Boy   1991-07-26  1000000  \n",
      "56  Game Boy   1991-12-20  1000000  \n",
      "64  Game Boy   1997-02-01  1000000  \n",
      "58  Game Boy   1992-11-01  1000000  \n",
      "59  Game Boy   1993-04-23  1000000  \n",
      "60  Game Boy   1993-12-22  1000000  \n",
      "61  Game Boy   1994-01-01  1000000  \n",
      "62  Game Boy   1994-01-01  1000000  \n",
      "63  Game Boy   1995-08-11  1000000  \n",
      "57  Game Boy   1992-07-01  1000000  \n"
     ]
    }
   ],
   "source": [
    "min_sales = df['Sales'].min()\n",
    "\n",
    "lowest_selling_games = df.loc[df['Sales'] == min_sales]\n",
    "\n",
    "print(lowest_selling_games)\n"
   ]
  },
  {
   "attachments": {},
   "cell_type": "markdown",
   "metadata": {},
   "source": [
    "Below I decided to show a graph of the trend in terms of sales overall for games on both the Game Boy and Game Boy Color and whether or not there was a slow uptrend over time. In reality, there were quick sales bursts throughout the years that happened three times. The first one was in 1989 with Tetris, which sold 35 million copies. We then have Pokémon in 1996, the highest-selling game for the Game Boy at just over 46 million copies. The next jump was in 1999 with Pokémon Gold, Silver, and Crystal. Beyond these three spikes, there was a slight uptrend going from 1990 to 1992 and then from 1997 to 1999, but the patterns for sales over the years between the Game Boy and Game Boy Color were mostly sporadic."
   ]
  },
  {
   "cell_type": "code",
   "execution_count": 72,
   "metadata": {},
   "outputs": [
    {
     "data": {
      "image/png": "[encoded data removed]",
      "text/plain": [
       "<Figure size 640x480 with 1 Axes>"
      ]
     },
     "metadata": {},
     "output_type": "display_data"
    }
   ],
   "source": [
    "sales_over_time = df.groupby('Release date')['Sales'].sum()\n",
    "\n",
    "\n",
    "# Plot the total sales over time\n",
    "sales_over_time.plot()\n",
    "\n",
    "# Add a title and axis labels\n",
    "plt.title('Total Sales Over Time')\n",
    "plt.xlabel('Year')\n",
    "plt.ylabel('Sales')\n",
    "\n",
    "# Show the plot\n",
    "plt.yticks([0, 10000000, 20000000, 30000000, 40000000, 50000000, 60000000], ['0', '10M', '20M', '30M', '40M', '50M', '60M'])\n",
    "plt.xticks(rotation=45)\n",
    "plt.show()"
   ]
  },
  {
   "attachments": {},
   "cell_type": "markdown",
   "metadata": {},
   "source": [
    "This was a fun little analysis to do since the first gaming console I played was the Game Boy Color back in 1999 when I was about four years old. The first game I remember playing, which was first on the list, was Pokémon Blue. I had accidentally deleted my brother's save file since the game was his. I thought you could have more than one save file on the game, which looking back, I don't know why they only limited it to one save per cartridge, but after that, he wasn't the happiest. I eventually got Pokémon Red from my parents, which was nice of them to get me. With it being my first gaming console as well as being handheld, that was a significant selling aspect, I feel, since I remember playing it in the car whenever I would go somewhere with my family on trips. This is a memory I think a lot of people had with the Game Boy or Game Boy Color back in the day if they played it, which really made those long car rides a lot more exciting. Nintendo has recently tried upping the handheld gaming console field with the Nintendo Switch. Still, for me, it doesn't feel the same since the only handheld electronics back then were cell phones which were very primitive and were just for calling and texting, and the Game Boy and Game Boy Color. Nowadays, we have smartphones that have taken over long car rides and everyday life wherever we go. That magic of only having a basic device to entertain you with that being your only distraction is gone, but the memories of being young and enjoying what felt like magic in your hand with the Game Boy and Game Boy Color will be a staple in gaming history forever for many."
   ]
  }
 ],
 "metadata": {
  "kernelspec": {
   "display_name": "Python 3",
   "language": "python",
   "name": "python3"
  },
  "language_info": {
   "codemirror_mode": {
    "name": "ipython",
    "version": 3
   },
   "file_extension": ".py",
   "mimetype": "text/x-python",
   "name": "python",
   "nbconvert_exporter": "python",
   "pygments_lexer": "ipython3",
   "version": "3.9.13"
  },
  "orig_nbformat": 4,
  "vscode": {
   "interpreter": {
    "hash": "481dc2f8602b36b74e8aca7f4898c755b10901b61f74e3f29ad73817a3577eb3"
   }
  }
 },
 "nbformat": 4,
 "nbformat_minor": 2
}
