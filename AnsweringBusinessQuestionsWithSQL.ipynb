{
 "cells": [
  {
   "cell_type": "markdown",
   "metadata": {},
   "source": [
    "# Answering Business Questions Using SQL\n",
    "***\n",
    "## Introduction\n",
    "\n",
    "This analysis uses the [Chinook](https://github.com/lerocha/chinook-database) database. The Chinook database is a fictional digital media shop based on actual data from an iTunes library. We will be looking at sales in terms of individual tracks vs. albums, along with sales by country and many more variables. The goal is to see what Chinook can do as a company to maximize profits for its digital media shop."
   ]
  },
  {
   "cell_type": "markdown",
   "metadata": {},
   "source": [
    "## Data Overview"
   ]
  },
  {
   "cell_type": "code",
   "execution_count": 1,
   "metadata": {},
   "outputs": [],
   "source": [
    "%%capture\n",
    "%load_ext sql\n",
    "%sql sqlite:///chinook-unmodified.db"
   ]
  },
  {
   "cell_type": "code",
   "execution_count": 2,
   "metadata": {},
   "outputs": [
    {
     "name": "stdout",
     "output_type": "stream",
     "text": [
      " * sqlite:///chinook-unmodified.db\n",
      "Done.\n"
     ]
    },
    {
     "data": {
      "text/html": [
       "<table>\n",
       "    <thead>\n",
       "        <tr>\n",
       "            <th>name</th>\n",
       "            <th>type</th>\n",
       "        </tr>\n",
       "    </thead>\n",
       "    <tbody>\n",
       "        <tr>\n",
       "            <td>album</td>\n",
       "            <td>table</td>\n",
       "        </tr>\n",
       "        <tr>\n",
       "            <td>artist</td>\n",
       "            <td>table</td>\n",
       "        </tr>\n",
       "        <tr>\n",
       "            <td>customer</td>\n",
       "            <td>table</td>\n",
       "        </tr>\n",
       "        <tr>\n",
       "            <td>employee</td>\n",
       "            <td>table</td>\n",
       "        </tr>\n",
       "        <tr>\n",
       "            <td>genre</td>\n",
       "            <td>table</td>\n",
       "        </tr>\n",
       "        <tr>\n",
       "            <td>invoice</td>\n",
       "            <td>table</td>\n",
       "        </tr>\n",
       "        <tr>\n",
       "            <td>invoice_line</td>\n",
       "            <td>table</td>\n",
       "        </tr>\n",
       "        <tr>\n",
       "            <td>media_type</td>\n",
       "            <td>table</td>\n",
       "        </tr>\n",
       "        <tr>\n",
       "            <td>playlist</td>\n",
       "            <td>table</td>\n",
       "        </tr>\n",
       "        <tr>\n",
       "            <td>playlist_track</td>\n",
       "            <td>table</td>\n",
       "        </tr>\n",
       "        <tr>\n",
       "            <td>track</td>\n",
       "            <td>table</td>\n",
       "        </tr>\n",
       "    </tbody>\n",
       "</table>"
      ],
      "text/plain": [
       "[('album', 'table'),\n",
       " ('artist', 'table'),\n",
       " ('customer', 'table'),\n",
       " ('employee', 'table'),\n",
       " ('genre', 'table'),\n",
       " ('invoice', 'table'),\n",
       " ('invoice_line', 'table'),\n",
       " ('media_type', 'table'),\n",
       " ('playlist', 'table'),\n",
       " ('playlist_track', 'table'),\n",
       " ('track', 'table')]"
      ]
     },
     "execution_count": 2,
     "metadata": {},
     "output_type": "execute_result"
    }
   ],
   "source": [
    "%%sql\n",
    "SELECT\n",
    "    name,\n",
    "    type\n",
    "FROM sqlite_master\n",
    "WHERE type IN (\"table\",\"view\");"
   ]
  },
  {
   "cell_type": "markdown",
   "metadata": {},
   "source": [
    "The database has 11 tables that range from the album, artist, customer, and genre. There are also tables for information on employees working for Chinook, customers, and how many are purchasing a specific track or album, along with invoices to keep track of purchases. There's a plethora of information that helps give us a good idea about the scope and parameters of the database for analyzing all angles to see if and how the business is thriving."
   ]
  },
  {
   "cell_type": "markdown",
   "metadata": {},
   "source": [
    "## Top Genres"
   ]
  },
  {
   "cell_type": "code",
   "execution_count": 10,
   "metadata": {},
   "outputs": [
    {
     "name": "stdout",
     "output_type": "stream",
     "text": [
      " * sqlite:///chinook-unmodified.db\n",
      "Done.\n"
     ]
    },
    {
     "data": {
      "text/html": [
       "<table>\n",
       "    <thead>\n",
       "        <tr>\n",
       "            <th>genre</th>\n",
       "            <th>count</th>\n",
       "            <th>percent</th>\n",
       "        </tr>\n",
       "    </thead>\n",
       "    <tbody>\n",
       "        <tr>\n",
       "            <td>Rock</td>\n",
       "            <td>561</td>\n",
       "            <td>53.4</td>\n",
       "        </tr>\n",
       "        <tr>\n",
       "            <td>Alternative &amp; Punk</td>\n",
       "            <td>130</td>\n",
       "            <td>12.4</td>\n",
       "        </tr>\n",
       "        <tr>\n",
       "            <td>Metal</td>\n",
       "            <td>124</td>\n",
       "            <td>11.8</td>\n",
       "        </tr>\n",
       "        <tr>\n",
       "            <td>R&amp;B/Soul</td>\n",
       "            <td>53</td>\n",
       "            <td>5.0</td>\n",
       "        </tr>\n",
       "        <tr>\n",
       "            <td>Blues</td>\n",
       "            <td>36</td>\n",
       "            <td>3.4</td>\n",
       "        </tr>\n",
       "        <tr>\n",
       "            <td>Alternative</td>\n",
       "            <td>35</td>\n",
       "            <td>3.3</td>\n",
       "        </tr>\n",
       "        <tr>\n",
       "            <td>Pop</td>\n",
       "            <td>22</td>\n",
       "            <td>2.1</td>\n",
       "        </tr>\n",
       "        <tr>\n",
       "            <td>Latin</td>\n",
       "            <td>22</td>\n",
       "            <td>2.1</td>\n",
       "        </tr>\n",
       "        <tr>\n",
       "            <td>Hip Hop/Rap</td>\n",
       "            <td>20</td>\n",
       "            <td>1.9</td>\n",
       "        </tr>\n",
       "        <tr>\n",
       "            <td>Jazz</td>\n",
       "            <td>14</td>\n",
       "            <td>1.3</td>\n",
       "        </tr>\n",
       "        <tr>\n",
       "            <td>Easy Listening</td>\n",
       "            <td>13</td>\n",
       "            <td>1.2</td>\n",
       "        </tr>\n",
       "        <tr>\n",
       "            <td>Reggae</td>\n",
       "            <td>6</td>\n",
       "            <td>0.6</td>\n",
       "        </tr>\n",
       "        <tr>\n",
       "            <td>Electronica/Dance</td>\n",
       "            <td>5</td>\n",
       "            <td>0.5</td>\n",
       "        </tr>\n",
       "        <tr>\n",
       "            <td>Classical</td>\n",
       "            <td>4</td>\n",
       "            <td>0.4</td>\n",
       "        </tr>\n",
       "        <tr>\n",
       "            <td>Heavy Metal</td>\n",
       "            <td>3</td>\n",
       "            <td>0.3</td>\n",
       "        </tr>\n",
       "    </tbody>\n",
       "</table>"
      ],
      "text/plain": [
       "[('Rock', 561, 53.4),\n",
       " ('Alternative & Punk', 130, 12.4),\n",
       " ('Metal', 124, 11.8),\n",
       " ('R&B/Soul', 53, 5.0),\n",
       " ('Blues', 36, 3.4),\n",
       " ('Alternative', 35, 3.3),\n",
       " ('Pop', 22, 2.1),\n",
       " ('Latin', 22, 2.1),\n",
       " ('Hip Hop/Rap', 20, 1.9),\n",
       " ('Jazz', 14, 1.3),\n",
       " ('Easy Listening', 13, 1.2),\n",
       " ('Reggae', 6, 0.6),\n",
       " ('Electronica/Dance', 5, 0.5),\n",
       " ('Classical', 4, 0.4),\n",
       " ('Heavy Metal', 3, 0.3)]"
      ]
     },
     "execution_count": 10,
     "metadata": {},
     "output_type": "execute_result"
    }
   ],
   "source": [
    "%%sql\n",
    "\n",
    "WITH\n",
    "usa_invoice_line AS\n",
    "    (\n",
    "     SELECT\n",
    "        il.invoice_line_id invoice_line_id,\n",
    "        il.track_id track_id,\n",
    "        c.country country\n",
    "     FROM invoice_line il\n",
    "     INNER JOIN invoice inv ON inv.invoice_id = il.invoice_id\n",
    "     INNER JOIN customer c on c.customer_id = inv.customer_id\n",
    "     WHERE c.country = \"USA\"   \n",
    "    )\n",
    "SELECT\n",
    "    g.name genre,\n",
    "    COUNT(uil.invoice_line_id) count,\n",
    "    ROUND(CAST(COUNT(uil.invoice_line_id)*100 AS Float)/(SELECT COUNT(invoice_line_id) FROM usa_invoice_line), 1) percent\n",
    "FROM usa_invoice_line uil\n",
    "INNER JOIN track t ON t.track_id = uil.track_id\n",
    "INNER JOIN genre g ON g.genre_id = t.genre_id\n",
    "GROUP BY genre\n",
    "ORDER BY count DESC\n",
    "LIMIT 15;"
   ]
  },
  {
   "cell_type": "markdown",
   "metadata": {},
   "source": [
    "Here are the top 15 genres in descending order, with **Rock** at the top."
   ]
  },
  {
   "cell_type": "markdown",
   "metadata": {},
   "source": [
    "| Artist Name          | Genre   |\n",
    "| -------------------- | ------- |\n",
    "| Regal                | Hip-Hop |\n",
    "| Red Tone             | Punk    |\n",
    "| Meteor and the Girls | Pop     |\n",
    "| Slim Jim Bites       | Blues   |"
   ]
  },
  {
   "cell_type": "markdown",
   "metadata": {},
   "source": [
    "After seeing the top 15 genres, we're tasked with taking these four albums and picking the top three albums we should purchase for Chinook's virtual store. The chart above shows that the store should choose **Red Tone - Punk** since Alternative & Punk is the second most popular genre. Then they should select **Slim Jim Bites - Blues**, then **Meteor and the Girls - Pop**."
   ]
  },
  {
   "cell_type": "markdown",
   "metadata": {},
   "source": [
    "## Analyzing Employee Sales Performance"
   ]
  },
  {
   "cell_type": "code",
   "execution_count": 15,
   "metadata": {},
   "outputs": [
    {
     "name": "stdout",
     "output_type": "stream",
     "text": [
      " * sqlite:///chinook-unmodified.db\n",
      "Done.\n"
     ]
    },
    {
     "data": {
      "text/html": [
       "<table>\n",
       "    <thead>\n",
       "        <tr>\n",
       "            <th>employee</th>\n",
       "            <th>hire_date</th>\n",
       "            <th>total_sales</th>\n",
       "        </tr>\n",
       "    </thead>\n",
       "    <tbody>\n",
       "        <tr>\n",
       "            <td>Jane Peacock</td>\n",
       "            <td>2017-04-01 00:00:00</td>\n",
       "            <td>1732.0</td>\n",
       "        </tr>\n",
       "        <tr>\n",
       "            <td>Margaret Park</td>\n",
       "            <td>2017-05-03 00:00:00</td>\n",
       "            <td>1584.0</td>\n",
       "        </tr>\n",
       "        <tr>\n",
       "            <td>Steve Johnson</td>\n",
       "            <td>2017-10-17 00:00:00</td>\n",
       "            <td>1394.0</td>\n",
       "        </tr>\n",
       "    </tbody>\n",
       "</table>"
      ],
      "text/plain": [
       "[('Jane Peacock', '2017-04-01 00:00:00', 1732.0),\n",
       " ('Margaret Park', '2017-05-03 00:00:00', 1584.0),\n",
       " ('Steve Johnson', '2017-10-17 00:00:00', 1394.0)]"
      ]
     },
     "execution_count": 15,
     "metadata": {},
     "output_type": "execute_result"
    }
   ],
   "source": [
    "%%sql\n",
    "\n",
    "WITH customer_support_rep_sales AS\n",
    "    (\n",
    "    SELECT\n",
    "        i.customer_id,\n",
    "        c.support_rep_id,\n",
    "        SUM(i.total) AS total\n",
    "    FROM invoice AS i\n",
    "    INNER JOIN customer AS c on c.customer_id = i.customer_id\n",
    "    GROUP BY 1,2\n",
    "    )\n",
    "\n",
    "SELECT\n",
    "    e.first_name || \" \" || e.last_name employee,\n",
    "    e.hire_date,\n",
    "    ROUND(SUM(csrs.total)) AS total_sales\n",
    "FROM customer_support_rep_sales AS csrs\n",
    "INNER JOIN employee AS e on e.employee_id = csrs.support_rep_id\n",
    "GROUP BY 1;"
   ]
  },
  {
   "cell_type": "markdown",
   "metadata": {},
   "source": [
    "We can see the top three employees here, with Jane Peacock with the highest total sales. We have Margaret Park and Steve Johnson not too far behind. One thing to note, though, in terms of top employees is that Jane was hired at an earlier date than both of them. Because of this, it allows Jane a higher chance of getting more sales compared to Margaret and Steve. Even accounting for the hiring date, Jane is slightly better when it comes to sales than Margaret, but Steve is on par to pass Jane since he was hired six and a half months after her and is on pace to pass her when he reaches the same amount of employment time as Jane."
   ]
  },
  {
   "cell_type": "markdown",
   "metadata": {},
   "source": [
    "## Analyzing Sales by Country"
   ]
  },
  {
   "cell_type": "code",
   "execution_count": 58,
   "metadata": {},
   "outputs": [
    {
     "name": "stdout",
     "output_type": "stream",
     "text": [
      " * sqlite:///chinook-unmodified.db\n",
      "Done.\n"
     ]
    },
    {
     "data": {
      "text/html": [
       "<table>\n",
       "    <thead>\n",
       "        <tr>\n",
       "            <th>country</th>\n",
       "            <th>customers</th>\n",
       "            <th>pct_customers</th>\n",
       "            <th>total_sales</th>\n",
       "            <th>pct_sales</th>\n",
       "            <th>sales_per_customer</th>\n",
       "            <th>average_order</th>\n",
       "        </tr>\n",
       "    </thead>\n",
       "    <tbody>\n",
       "        <tr>\n",
       "            <td>USA</td>\n",
       "            <td>13</td>\n",
       "            <td>22.0</td>\n",
       "            <td>1038.0</td>\n",
       "            <td>22.0</td>\n",
       "            <td>10.1</td>\n",
       "            <td>80.0</td>\n",
       "        </tr>\n",
       "        <tr>\n",
       "            <td>Canada</td>\n",
       "            <td>8</td>\n",
       "            <td>14.0</td>\n",
       "            <td>535.0</td>\n",
       "            <td>11.0</td>\n",
       "            <td>9.5</td>\n",
       "            <td>67.0</td>\n",
       "        </tr>\n",
       "        <tr>\n",
       "            <td>Brazil</td>\n",
       "            <td>5</td>\n",
       "            <td>8.0</td>\n",
       "            <td>427.0</td>\n",
       "            <td>9.0</td>\n",
       "            <td>12.2</td>\n",
       "            <td>85.0</td>\n",
       "        </tr>\n",
       "        <tr>\n",
       "            <td>France</td>\n",
       "            <td>5</td>\n",
       "            <td>8.0</td>\n",
       "            <td>388.0</td>\n",
       "            <td>8.0</td>\n",
       "            <td>10.0</td>\n",
       "            <td>78.0</td>\n",
       "        </tr>\n",
       "        <tr>\n",
       "            <td>Germany</td>\n",
       "            <td>4</td>\n",
       "            <td>7.0</td>\n",
       "            <td>334.0</td>\n",
       "            <td>7.0</td>\n",
       "            <td>10.3</td>\n",
       "            <td>84.0</td>\n",
       "        </tr>\n",
       "        <tr>\n",
       "            <td>Czech Republic</td>\n",
       "            <td>2</td>\n",
       "            <td>3.0</td>\n",
       "            <td>274.0</td>\n",
       "            <td>6.0</td>\n",
       "            <td>15.0</td>\n",
       "            <td>137.0</td>\n",
       "        </tr>\n",
       "        <tr>\n",
       "            <td>United Kingdom</td>\n",
       "            <td>3</td>\n",
       "            <td>5.0</td>\n",
       "            <td>245.0</td>\n",
       "            <td>5.0</td>\n",
       "            <td>9.3</td>\n",
       "            <td>82.0</td>\n",
       "        </tr>\n",
       "        <tr>\n",
       "            <td>Portugal</td>\n",
       "            <td>2</td>\n",
       "            <td>3.0</td>\n",
       "            <td>185.0</td>\n",
       "            <td>4.0</td>\n",
       "            <td>14.5</td>\n",
       "            <td>93.0</td>\n",
       "        </tr>\n",
       "        <tr>\n",
       "            <td>India</td>\n",
       "            <td>2</td>\n",
       "            <td>3.0</td>\n",
       "            <td>183.0</td>\n",
       "            <td>4.0</td>\n",
       "            <td>10.5</td>\n",
       "            <td>92.0</td>\n",
       "        </tr>\n",
       "        <tr>\n",
       "            <td>Other</td>\n",
       "            <td>15</td>\n",
       "            <td>25.0</td>\n",
       "            <td>1093.0</td>\n",
       "            <td>23.0</td>\n",
       "            <td>10.0</td>\n",
       "            <td>73.0</td>\n",
       "        </tr>\n",
       "    </tbody>\n",
       "</table>"
      ],
      "text/plain": [
       "[('USA', 13, 22.0, 1038.0, 22.0, 10.1, 80.0),\n",
       " ('Canada', 8, 14.0, 535.0, 11.0, 9.5, 67.0),\n",
       " ('Brazil', 5, 8.0, 427.0, 9.0, 12.2, 85.0),\n",
       " ('France', 5, 8.0, 388.0, 8.0, 10.0, 78.0),\n",
       " ('Germany', 4, 7.0, 334.0, 7.0, 10.3, 84.0),\n",
       " ('Czech Republic', 2, 3.0, 274.0, 6.0, 15.0, 137.0),\n",
       " ('United Kingdom', 3, 5.0, 245.0, 5.0, 9.3, 82.0),\n",
       " ('Portugal', 2, 3.0, 185.0, 4.0, 14.5, 93.0),\n",
       " ('India', 2, 3.0, 183.0, 4.0, 10.5, 92.0),\n",
       " ('Other', 15, 25.0, 1093.0, 23.0, 10.0, 73.0)]"
      ]
     },
     "execution_count": 58,
     "metadata": {},
     "output_type": "execute_result"
    }
   ],
   "source": [
    "%%sql\n",
    "\n",
    "WITH sales_per_customer AS   (SELECT c.country, \n",
    "                                     c.customer_id,\n",
    "                                     ROUND(SUM(i.total), 0) total,\n",
    "                                     COUNT(i.invoice_id) num_sales\n",
    "                                FROM customer c\n",
    "                                     INNER JOIN invoice i \n",
    "                                     ON i.customer_id=c.customer_id\n",
    "                               GROUP BY 1, 2),\n",
    "\n",
    "     all_countries AS        (SELECT c.country,\n",
    "                                     COUNT(c.customer_id) customers,\n",
    "                                     ROUND(SUM(spc.total), 0) total_sales,\n",
    "                                     ROUND(AVG(spc.num_sales), 1) sales_per_customer,\n",
    "                                     ROUND(AVG(spc.total), 0) average_order\n",
    "                                FROM customer c\n",
    "                                     INNER JOIN sales_per_customer spc \n",
    "                                     ON spc.customer_id = c.customer_id\n",
    "                               GROUP BY 1),  \n",
    "    \n",
    "     only_1_customer AS      (SELECT COUNT(country) country,\n",
    "                                     COUNT(customers) customers,\n",
    "                                     SUM(total_sales) total_sales,\n",
    "                                     ROUND(AVG(sales_per_customer), 0) sales_per_customer, \n",
    "                                     ROUND(AVG(average_order), 0) average_order\n",
    "                                FROM all_countries\n",
    "                               WHERE customers=1),  \n",
    "        \n",
    "    other_countries AS       (SELECT CASE \n",
    "                                     WHEN country = (SELECT country \n",
    "                                                       FROM only_1_customer)       \n",
    "                                                       THEN \"Other\"\n",
    "                                     END AS country, \n",
    "                                     customers,\n",
    "                                     total_sales, \n",
    "                                     sales_per_customer, \n",
    "                                     average_order\n",
    "                                FROM only_1_customer),\n",
    "    \n",
    "     more_than_1_customer AS (SELECT * \n",
    "                                FROM all_countries \n",
    "                               WHERE customers > 1\n",
    "                               ORDER BY 1),\n",
    "        \n",
    "     united_unsorted AS      (SELECT * FROM other_countries\n",
    "                               UNION \n",
    "                              SELECT * FROM more_than_1_customer)   \n",
    "                              \n",
    "SELECT country,\n",
    "       customers,\n",
    "       ROUND(customers * 100.0/(SELECT SUM(customers) \n",
    "                                      FROM united_unsorted), 0) pct_customers,\n",
    "       total_sales,\n",
    "       ROUND(total_sales * 100.0/(SELECT SUM(total_sales) \n",
    "                                      FROM united_unsorted), 0) pct_sales,       \n",
    "       sales_per_customer,\n",
    "       average_order\n",
    "  FROM (SELECT united_unsorted.*,\n",
    "               CASE\n",
    "               WHEN united_unsorted.country = \"Other\" THEN 1\n",
    "               ELSE 0\n",
    "               END AS sort\n",
    "          FROM united_unsorted)\n",
    " ORDER BY sort ASC, 4 DESC;\n"
   ]
  },
  {
   "cell_type": "markdown",
   "metadata": {},
   "source": [
    "Here we're analyzing the number of customers each country has, total sales, the percentage of sales they have as a whole when grouped with other countries, sales per customer, and the average order value. Since there are some countries in our database with only one customer, it's better to group them into their own category. Hence, the **Other** name under the country column is all those countries with only one customer. It makes more sense to put the country's name in this list if they have at least two or more customers.\n",
    "\n",
    "We can see that the USA is far ahead of anyone regarding customers and total sales, making up 22% of customers and sales for the whole data. One piece of data that stands out here is that the Czech Republic has the highest average order value by far and away. Adding onto that, what's interesting is that they only have two customers, which means those two customers were hungry for new music to listen to. Other countries such as Portugal and India had the second and third highest average order amounts while only having two customers each. With this in mind, these three countries are perfect for targeting those countries' music audiences to maximize profit since they're so willing to purchase a lot of songs/albums."
   ]
  },
  {
   "cell_type": "markdown",
   "metadata": {},
   "source": [
    "## Total Tracks Sold"
   ]
  },
  {
   "cell_type": "code",
   "execution_count": 59,
   "metadata": {},
   "outputs": [
    {
     "name": "stdout",
     "output_type": "stream",
     "text": [
      " * sqlite:///chinook-unmodified.db\n",
      "Done.\n"
     ]
    },
    {
     "data": {
      "text/html": [
       "<table>\n",
       "    <thead>\n",
       "        <tr>\n",
       "            <th>all_tracks</th>\n",
       "            <th>sold_tracks</th>\n",
       "            <th>pct_sold</th>\n",
       "        </tr>\n",
       "    </thead>\n",
       "    <tbody>\n",
       "        <tr>\n",
       "            <td>3503</td>\n",
       "            <td>1806</td>\n",
       "            <td>52.0</td>\n",
       "        </tr>\n",
       "    </tbody>\n",
       "</table>"
      ],
      "text/plain": [
       "[(3503, 1806, 52.0)]"
      ]
     },
     "execution_count": 59,
     "metadata": {},
     "output_type": "execute_result"
    }
   ],
   "source": [
    "%%sql\n",
    "\n",
    "WITH all_vs_sold AS (SELECT COUNT(DISTINCT(t.track_id)) all_tracks, \n",
    "                            COUNT(DISTINCT(il.track_id)) sold_tracks\n",
    "                       FROM track t\n",
    "                            LEFT JOIN invoice_line il \n",
    "                            ON il.track_id = t.track_id)\n",
    "\n",
    "SELECT all_vs_sold.*,\n",
    "       ROUND(sold_tracks * 100.0 / all_tracks, 0) pct_sold\n",
    "  FROM all_vs_sold;"
   ]
  },
  {
   "cell_type": "markdown",
   "metadata": {},
   "source": [
    "Here we have the total amount of tracks that Chinook holds, which is 3,503. The number of total tracks sold was 1,806, which is 52% of the tracks, which is pretty decent. The thing with this data is that customers can only either purchase individual tracks or whole albums. Since Chinook has to be specific with what tracks and albums they want to get the rights to sell in their store, the issue is that customers aren't allowed to purchase an album along with individual tracks all in the same purchase. Management is considering letting customers purchase only the most popular tracks from each album from record companies instead of being able to purchase every track from an album. With this in mind, we need to see customers' buying habits in terms of whether they're buying more tracks than albums or vice versa. "
   ]
  },
  {
   "cell_type": "markdown",
   "metadata": {},
   "source": [
    "## Individual Tracks vs Albums"
   ]
  },
  {
   "cell_type": "code",
   "execution_count": 60,
   "metadata": {},
   "outputs": [
    {
     "name": "stdout",
     "output_type": "stream",
     "text": [
      " * sqlite:///chinook-unmodified.db\n",
      "Done.\n"
     ]
    },
    {
     "data": {
      "text/html": [
       "<table>\n",
       "    <thead>\n",
       "        <tr>\n",
       "            <th>purchase</th>\n",
       "            <th>num_invoices</th>\n",
       "            <th>pct</th>\n",
       "        </tr>\n",
       "    </thead>\n",
       "    <tbody>\n",
       "        <tr>\n",
       "            <td>Tracks</td>\n",
       "            <td>500</td>\n",
       "            <td>81.0</td>\n",
       "        </tr>\n",
       "        <tr>\n",
       "            <td>Albums</td>\n",
       "            <td>114</td>\n",
       "            <td>19.0</td>\n",
       "        </tr>\n",
       "    </tbody>\n",
       "</table>"
      ],
      "text/plain": [
       "[('Tracks', 500, 81.0), ('Albums', 114, 19.0)]"
      ]
     },
     "execution_count": 60,
     "metadata": {},
     "output_type": "execute_result"
    }
   ],
   "source": [
    "%%sql\n",
    "\n",
    "WITH invoice_album AS   (SELECT il.invoice_id,                                     \n",
    "                                t.album_id\n",
    "                           FROM invoice_line il\n",
    "                                LEFT JOIN track t \n",
    "                                ON t.track_id = il.track_id\n",
    "                          GROUP BY 1),\n",
    "\n",
    "album_vs_tracks AS (SELECT ia.*,\n",
    "                                CASE\n",
    "                                WHEN (SELECT il.track_id \n",
    "                                        FROM invoice_line il\n",
    "                                       WHERE il.invoice_id = ia.invoice_id\n",
    "                                      EXCEPT                                          \n",
    "                                      SELECT t.track_id \n",
    "                                        FROM track t\n",
    "                                       WHERE t.album_id = ia.album_id) IS NULL\n",
    "                             \n",
    "                                 AND (SELECT t.track_id \n",
    "                                        FROM track t\n",
    "                                       WHERE t.album_id = ia.album_id                                         \n",
    "                                      EXCEPT                                          \n",
    "                                      SELECT il.track_id \n",
    "                                        FROM invoice_line il\n",
    "                                       WHERE il.invoice_id = ia.invoice_id) IS NULL\n",
    "                                   \n",
    "                                THEN \"Albums\"\n",
    "                                ELSE \"Tracks\"\n",
    "                                END AS purchase                             \n",
    "                           FROM invoice_album ia)\n",
    "                           \n",
    "SELECT purchase,\n",
    "       COUNT(*) num_invoices,\n",
    "       ROUND(COUNT(*) * 100.0 /(SELECT COUNT(*)\n",
    "                                FROM invoice), 0) pct\n",
    "FROM album_vs_tracks\n",
    "GROUP BY 1\n",
    "ORDER BY 2 DESC;"
   ]
  },
  {
   "cell_type": "markdown",
   "metadata": {},
   "source": [
    "As we can see, individual tracks sell just over four times as much as albums. With this data, it's clear that Chinook should focus on selling the most popular individual tracks and less on selling albums. We can see also from the chart near the top what the best-selling genres are. Rock, Alternative & Punk, and Metal are the top three genres, so Chinook could focus on selling the top tracks from those genres. We can also look at the most popular artists to get a better idea of how to go about selling individual tracks."
   ]
  },
  {
   "cell_type": "markdown",
   "metadata": {},
   "source": [
    "## Most Popular Artists"
   ]
  },
  {
   "cell_type": "code",
   "execution_count": 61,
   "metadata": {},
   "outputs": [
    {
     "name": "stdout",
     "output_type": "stream",
     "text": [
      " * sqlite:///chinook-unmodified.db\n",
      "Done.\n"
     ]
    },
    {
     "data": {
      "text/html": [
       "<table>\n",
       "    <thead>\n",
       "        <tr>\n",
       "            <th>artist_name</th>\n",
       "            <th>num_playlists</th>\n",
       "        </tr>\n",
       "    </thead>\n",
       "    <tbody>\n",
       "        <tr>\n",
       "            <td>Eugene Ormandy</td>\n",
       "            <td>7</td>\n",
       "        </tr>\n",
       "        <tr>\n",
       "            <td>The King&#x27;s Singers</td>\n",
       "            <td>6</td>\n",
       "        </tr>\n",
       "        <tr>\n",
       "            <td>English Concert &amp; Trevor Pinnock</td>\n",
       "            <td>6</td>\n",
       "        </tr>\n",
       "        <tr>\n",
       "            <td>Berliner Philharmoniker &amp; Herbert Von Karajan</td>\n",
       "            <td>6</td>\n",
       "        </tr>\n",
       "        <tr>\n",
       "            <td>Academy of St. Martin in the Fields &amp; Sir Neville Marriner</td>\n",
       "            <td>6</td>\n",
       "        </tr>\n",
       "    </tbody>\n",
       "</table>"
      ],
      "text/plain": [
       "[('Eugene Ormandy', 7),\n",
       " (\"The King's Singers\", 6),\n",
       " ('English Concert & Trevor Pinnock', 6),\n",
       " ('Berliner Philharmoniker & Herbert Von Karajan', 6),\n",
       " ('Academy of St. Martin in the Fields & Sir Neville Marriner', 6)]"
      ]
     },
     "execution_count": 61,
     "metadata": {},
     "output_type": "execute_result"
    }
   ],
   "source": [
    "%%sql\n",
    "\n",
    "SELECT ar.name artist_name,\n",
    "       COUNT(DISTINCT(pt.playlist_id)) num_playlists\n",
    "  FROM artist ar\n",
    "       INNER JOIN album al \n",
    "       ON al.artist_id = ar.artist_id   \n",
    "        \n",
    "       INNER JOIN track t \n",
    "       ON t.album_id = al.album_id\n",
    "    \n",
    "       INNER JOIN playlist_track pt \n",
    "       ON pt.track_id = t.track_id    \n",
    " GROUP BY 1\n",
    " ORDER BY 2 DESC\n",
    " LIMIT 5;"
   ]
  },
  {
   "cell_type": "markdown",
   "metadata": {},
   "source": [
    "Here we have the top five artists regarding how many playlists they're in. The more playlists an artist is in, the more popular they are. We can see here that **Eugene Ormandy** is in the most playlists. Close behind are other artists such as **The King's Singers** and **English Concert & Trevor Pinnock**. What we can do is see what genre these artists make music in."
   ]
  },
  {
   "cell_type": "code",
   "execution_count": 62,
   "metadata": {},
   "outputs": [
    {
     "name": "stdout",
     "output_type": "stream",
     "text": [
      " * sqlite:///chinook-unmodified.db\n",
      "Done.\n"
     ]
    },
    {
     "data": {
      "text/html": [
       "<table>\n",
       "    <thead>\n",
       "        <tr>\n",
       "            <th>genre</th>\n",
       "        </tr>\n",
       "    </thead>\n",
       "    <tbody>\n",
       "        <tr>\n",
       "            <td>Classical</td>\n",
       "        </tr>\n",
       "    </tbody>\n",
       "</table>"
      ],
      "text/plain": [
       "[('Classical',)]"
      ]
     },
     "execution_count": 62,
     "metadata": {},
     "output_type": "execute_result"
    }
   ],
   "source": [
    "%%sql\n",
    "\n",
    "SELECT DISTINCT(g.name) genre\n",
    "  FROM genre g\n",
    "       INNER JOIN track t \n",
    "       ON t.genre_id = g.genre_id   \n",
    "    \n",
    "       INNER JOIN album al \n",
    "       ON al.album_id = t.album_id\n",
    "    \n",
    "       INNER JOIN artist ar \n",
    "       ON ar.artist_id = al.artist_id    \n",
    " WHERE ar.name = \"Eugene Ormandy\" \n",
    "    OR ar.name = \"The King's Singers\"\n",
    "    OR ar.name = \"English Concert & Trevor Pinnock\"\n",
    "    OR ar.name = \"Berliner Philharmoniker & Herbert Von Karajan\" \n",
    "    OR ar.name = \"Academy of St. Martin in the Fields & Sir Neville Marriner\";"
   ]
  },
  {
   "cell_type": "markdown",
   "metadata": {},
   "source": [
    "Interestingly these artists are comprised in the **Classical** genre. Interestingly, if we look at the chart at the top, the classical genre was the 14th most popular genre. So, seeing the most popular artists in the Chinook database being from the 14th most popular genre isn't what we expected. With this information, it's not a good idea to focus on these top artists and selling their individual tracks since, yes, they're in the highest number of playlists, but classical music is nowhere near one of the top genres."
   ]
  },
  {
   "cell_type": "markdown",
   "metadata": {},
   "source": [
    "## Conclusion"
   ]
  },
  {
   "cell_type": "markdown",
   "metadata": {},
   "source": [
    "After analyzing the Chinook database and trying to find answers to help the company maximize profits, we've come up with the following findings:\n",
    "\n",
    "- They should purchase the three albums mentioned earlier, which are **Red Tone**, which was in the Punk genre, **Slim Jim Bites** in the Blues genre, and **Meteor and the Girls**, which was in the Pop genre. These three genres were the highest among the four in the overall most popular genres in Chinook's digital media shop. They need to capitalize on what's popular and push these three albums.\n",
    "\n",
    "- Of the three sales agents, **Jane Peacock** was the most successful, with **Steve Johnson** on pace with her. **Margaret Park** was the least successful of the three sales agents, so one idea would be to focus on Jane and Steve taking on the more essential customers regarding how much money those customers are spending. If the customer is looking to buy a lot of individual tracks which leads to them spending more money than the average customer, statistically speaking, it would be wiser to have Jane or Steve deal with those more higher profile customers that're willing to spending more money since Chinook needs those purchases to go through.\n",
    "\n",
    "- Out of all the countries, the USA has the highest percentage of total customers and sales, so focusing on the USA when it comes to bringing more attention to helping those customers out with their purchases will help in an increase in revenue. Another aspect to consider when it comes to countries and music is that the Czech republic had the highest average order value by quite a lot. Portugal and India did as well, but those countries only had two customers who bought from Chinook. What could be done with these countries since there's clear potential for higher sales since the customers are willing to spend a lot is to implement ads more in those countries.\n",
    "\n",
    "- Customers, by far and away, buy individual tracks compared to albums, so focusing on purchasing the most popular individual tracks for their digital media shop is imperative to maximize profits. This is because customers have to weigh whether they want to purchase an album or individual tracks more since that's their policy that you can't double dip. So, purchasing popular individual tracks from the record companies from the most popular genres will help them maximize profits. We did see that the artists in the most playlists were in the classical genre, but the classical genre is the 14th most popular and is near the bottom of the list. Because of this, it's noted to not focus on those artists and push their individual tracks as a great way to maximize profits.\n",
    "\n",
    "- About half of the individual tracks weren't purchased, which could come down to them being in less popular genres. Yes, it's important to have a range of tracks across multiple genres, but if we have to be picky in the number of individual tracks we can purchase from record companies, we want to focus on what's popular genre-wise. We can see from the classical genre, which is a perfect example, that the most popular artists, when it came to the number of playlists, were a part of a genre that most people didn't care for."
   ]
  }
 ],
 "metadata": {
  "kernelspec": {
   "display_name": "Python 3.9.13",
   "language": "python",
   "name": "python3"
  },
  "language_info": {
   "codemirror_mode": {
    "name": "ipython",
    "version": 3
   },
   "file_extension": ".py",
   "mimetype": "text/x-python",
   "name": "python",
   "nbconvert_exporter": "python",
   "pygments_lexer": "ipython3",
   "version": "3.9.13"
  },
  "orig_nbformat": 4,
  "vscode": {
   "interpreter": {
    "hash": "481dc2f8602b36b74e8aca7f4898c755b10901b61f74e3f29ad73817a3577eb3"
   }
  }
 },
 "nbformat": 4,
 "nbformat_minor": 2
}
